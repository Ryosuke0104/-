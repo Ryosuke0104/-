{
 "cells": [
  {
   "cell_type": "markdown",
   "id": "2e017bfb",
   "metadata": {},
   "source": [
    "## 回帰分析"
   ]
  },
  {
   "cell_type": "code",
   "execution_count": 1,
   "id": "da04e343",
   "metadata": {},
   "outputs": [],
   "source": [
    "import numpy as np\n",
    "import matplotlib.pyplot as plt\n",
    "%matplotlib inline"
   ]
  },
  {
   "cell_type": "code",
   "execution_count": 5,
   "id": "d59d8d32",
   "metadata": {},
   "outputs": [
    {
     "data": {
      "text/plain": [
       "<matplotlib.collections.PathCollection at 0x7fbcac2ee250>"
      ]
     },
     "execution_count": 5,
     "metadata": {},
     "output_type": "execute_result"
    },
    {
     "data": {
      "image/png": "[encoded data removed]",
      "text/plain": [
       "<Figure size 432x288 with 1 Axes>"
      ]
     },
     "metadata": {
      "needs_background": "light"
     },
     "output_type": "display_data"
    }
   ],
   "source": [
    "n, alpha, beta = 4, 2, 3\n",
    "array_x = np.array([1, 4 ,3 ,-1])\n",
    "array_y = alpha * array_x + beta\n",
    "plt.scatter(array_x, array_y)"
   ]
  },
  {
   "cell_type": "markdown",
   "id": "aec9e062",
   "metadata": {},
   "source": [
    "### 誤差を加える"
   ]
  },
  {
   "cell_type": "code",
   "execution_count": 7,
   "id": "e005e58d",
   "metadata": {},
   "outputs": [
    {
     "data": {
      "text/plain": [
       "<matplotlib.collections.PathCollection at 0x7fbcac1343d0>"
      ]
     },
     "execution_count": 7,
     "metadata": {},
     "output_type": "execute_result"
    },
    {
     "data": {
      "image/png": "[encoded data removed]",
      "text/plain": [
       "<Figure size 432x288 with 1 Axes>"
      ]
     },
     "metadata": {
      "needs_background": "light"
     },
     "output_type": "display_data"
    }
   ],
   "source": [
    "np.random.seed(0)\n",
    "n, alpha, beta = 4, 2 ,3\n",
    "sigma = 1\n",
    "array_x = np.array([1, 4, 3, -1])\n",
    "array_y = alpha * array_x + beta + np.random.normal(0, sigma, n) # 平均0, 標準偏差sigmaの正規分布\n",
    "plt.scatter(array_x, array_y)"
   ]
  },
  {
   "cell_type": "markdown",
   "id": "78183dbc",
   "metadata": {},
   "source": [
    "### 回帰係数の推定"
   ]
  },
  {
   "cell_type": "code",
   "execution_count": 8,
   "id": "7f524363",
   "metadata": {},
   "outputs": [],
   "source": [
    "from sklearn.linear_model import LinearRegression"
   ]
  },
  {
   "cell_type": "code",
   "execution_count": 9,
   "id": "1807d3c3",
   "metadata": {},
   "outputs": [
    {
     "name": "stdout",
     "output_type": "stream",
     "text": [
      "[1.6364936]\n",
      "4.982096379465595\n"
     ]
    }
   ],
   "source": [
    "arr2d_X = array_x.reshape(n, 1) # n行1列の２次元配列\n",
    "reg = LinearRegression()\n",
    "reg.fit(arr2d_X, array_y)\n",
    "print(reg.coef_)\n",
    "print(reg.intercept_)"
   ]
  },
  {
   "cell_type": "markdown",
   "id": "567c5a96",
   "metadata": {},
   "source": [
    "### グラフ化"
   ]
  },
  {
   "cell_type": "code",
   "execution_count": 16,
   "id": "23acf8b3",
   "metadata": {},
   "outputs": [
    {
     "name": "stdout",
     "output_type": "stream",
     "text": [
      "[ 3.34560278 11.52807079]\n"
     ]
    }
   ],
   "source": [
    "predX = np.array([[-1.0], [4.0]])\n",
    "predY = reg.predict(predX)\n",
    "print(predY)"
   ]
  },
  {
   "cell_type": "code",
   "execution_count": 18,
   "id": "3415061c",
   "metadata": {},
   "outputs": [
    {
     "data": {
      "text/plain": [
       "[<matplotlib.lines.Line2D at 0x7fbcac09abb0>]"
      ]
     },
     "execution_count": 18,
     "metadata": {},
     "output_type": "execute_result"
    },
    {
     "data": {
      "image/png": "[encoded data removed]",
      "text/plain": [
       "<Figure size 432x288 with 1 Axes>"
      ]
     },
     "metadata": {
      "needs_background": "light"
     },
     "output_type": "display_data"
    }
   ],
   "source": [
    "plt.scatter(array_x, array_y) # サンプル\n",
    "plt.plot(predX, predY) # 母回帰直線"
   ]
  },
  {
   "cell_type": "code",
   "execution_count": 20,
   "id": "6ce365a1",
   "metadata": {},
   "outputs": [
    {
     "data": {
      "text/plain": [
       "<matplotlib.collections.PathCollection at 0x7fbcac19e850>"
      ]
     },
     "execution_count": 20,
     "metadata": {},
     "output_type": "execute_result"
    },
    {
     "data": {
      "image/png": "[encoded data removed]",
      "text/plain": [
       "<Figure size 432x288 with 1 Axes>"
      ]
     },
     "metadata": {
      "needs_background": "light"
     },
     "output_type": "display_data"
    }
   ],
   "source": [
    "np.random.seed(0)\n",
    "n, alpha, beta = 100, 2 ,3\n",
    "sigma = 1\n",
    "array_x = np.random.uniform(-1, 5, n)\n",
    "array_y = alpha * array_x + beta + np.random.normal(0, sigma, n) # 平均0, 標準偏差sigmaの正規分布\n",
    "plt.scatter(array_x, array_y)"
   ]
  },
  {
   "cell_type": "code",
   "execution_count": null,
   "id": "8e2afd08",
   "metadata": {},
   "outputs": [],
   "source": []
  },
  {
   "cell_type": "code",
   "execution_count": 23,
   "id": "4ea99e46",
   "metadata": {},
   "outputs": [],
   "source": [
    "data = np.loadtxt(fname=\"./reg.csv\", delimiter=\",\")"
   ]
  },
  {
   "cell_type": "code",
   "execution_count": 28,
   "id": "20c16668",
   "metadata": {},
   "outputs": [
    {
     "name": "stdout",
     "output_type": "stream",
     "text": [
      "[-1.5083265]\n",
      "2.1531411158637845\n"
     ]
    }
   ],
   "source": [
    "x = data[:,0]\n",
    "y = data[:,1]\n",
    "x_2d = x.reshape(len(x), 1)\n",
    "reg = LinearRegression()\n",
    "reg.fit(x_2d, y)\n",
    "print(reg.coef_)\n",
    "print(reg.intercept_)"
   ]
  },
  {
   "cell_type": "code",
   "execution_count": 26,
   "id": "d09a51de",
   "metadata": {},
   "outputs": [],
   "source": [
    "x_2d = x.reshape(len(x), 1)"
   ]
  },
  {
   "cell_type": "code",
   "execution_count": null,
   "id": "a7bcd32d",
   "metadata": {},
   "outputs": [],
   "source": []
  }
 ],
 "metadata": {
  "kernelspec": {
   "display_name": "Environment (conda_anaconda3)",
   "language": "python",
   "name": "conda_anaconda3"
  },
  "language_info": {
   "codemirror_mode": {
    "name": "ipython",
    "version": 3
   },
   "file_extension": ".py",
   "mimetype": "text/x-python",
   "name": "python",
   "nbconvert_exporter": "python",
   "pygments_lexer": "ipython3",
   "version": "3.8.5"
  }
 },
 "nbformat": 4,
 "nbformat_minor": 5
}
