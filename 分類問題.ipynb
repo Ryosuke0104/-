{
 "cells": [
  {
   "cell_type": "markdown",
   "id": "a3ac615d",
   "metadata": {},
   "source": [
    "# 分類問題"
   ]
  },
  {
   "cell_type": "markdown",
   "id": "3dd81635",
   "metadata": {},
   "source": [
    "## フィッシャーの線形判別関数"
   ]
  },
  {
   "cell_type": "code",
   "execution_count": 2,
   "id": "b134abd0",
   "metadata": {},
   "outputs": [],
   "source": [
    "import numpy as np\n",
    "from sklearn.discriminant_analysis import LinearDiscriminantAnalysis"
   ]
  },
  {
   "cell_type": "code",
   "execution_count": 3,
   "id": "237aef7c",
   "metadata": {},
   "outputs": [],
   "source": [
    "from sklearn.svm import SVC"
   ]
  },
  {
   "cell_type": "code",
   "execution_count": 10,
   "id": "b6ee4b61",
   "metadata": {},
   "outputs": [],
   "source": [
    "data = np.loadtxt(\"./spamdata1000.csv\", delimiter=\",\")"
   ]
  },
  {
   "cell_type": "code",
   "execution_count": 11,
   "id": "808005a7",
   "metadata": {},
   "outputs": [],
   "source": [
    "y = data[:, 0]\n",
    "x = data[:, 1:]"
   ]
  },
  {
   "cell_type": "code",
   "execution_count": 12,
   "id": "590b6cb6",
   "metadata": {},
   "outputs": [],
   "source": [
    "Ida = LinearDiscriminantAnalysis()\n",
    "Ida.fit(x, y)\n",
    "Idasc = Ida.score(x, y)"
   ]
  },
  {
   "cell_type": "code",
   "execution_count": 20,
   "id": "5bd93728",
   "metadata": {},
   "outputs": [
    {
     "data": {
      "text/plain": [
       "0.919"
      ]
     },
     "execution_count": 20,
     "metadata": {},
     "output_type": "execute_result"
    }
   ],
   "source": [
    "Idasc"
   ]
  },
  {
   "cell_type": "markdown",
   "id": "8f1647e3",
   "metadata": {},
   "source": [
    "## SVM（サポートベクトルマシン）"
   ]
  },
  {
   "cell_type": "code",
   "execution_count": 15,
   "id": "0cc048c8",
   "metadata": {},
   "outputs": [],
   "source": [
    "svm = SVC(kernel=rnel='linear')"
   ]
  },
  {
   "cell_type": "code",
   "execution_count": 16,
   "id": "3ac05907",
   "metadata": {},
   "outputs": [
    {
     "data": {
      "text/plain": [
       "SVC(kernel='linear')"
      ]
     },
     "execution_count": 16,
     "metadata": {},
     "output_type": "execute_result"
    }
   ],
   "source": [
    "svm.fit(x, y)"
   ]
  },
  {
   "cell_type": "code",
   "execution_count": 17,
   "id": "45cee44d",
   "metadata": {},
   "outputs": [
    {
     "data": {
      "text/plain": [
       "0.948"
      ]
     },
     "execution_count": 17,
     "metadata": {},
     "output_type": "execute_result"
    }
   ],
   "source": [
    "svm.score(x, y)"
   ]
  },
  {
   "cell_type": "code",
   "execution_count": null,
   "id": "fe6dd20b",
   "metadata": {},
   "outputs": [],
   "source": []
  }
 ],
 "metadata": {
  "kernelspec": {
   "display_name": "Environment (conda_anaconda3)",
   "language": "python",
   "name": "conda_anaconda3"
  },
  "language_info": {
   "codemirror_mode": {
    "name": "ipython",
    "version": 3
   },
   "file_extension": ".py",
   "mimetype": "text/x-python",
   "name": "python",
   "nbconvert_exporter": "python",
   "pygments_lexer": "ipython3",
   "version": "3.8.5"
  }
 },
 "nbformat": 4,
 "nbformat_minor": 5
}
