{
 "cells": [
  {
   "cell_type": "code",
   "execution_count": 1,
   "id": "95650852",
   "metadata": {},
   "outputs": [],
   "source": [
    "import numpy as np\n",
    "from sklearn.linear_model import LinearRegression"
   ]
  },
  {
   "cell_type": "code",
   "execution_count": 4,
   "id": "9ec467f6",
   "metadata": {},
   "outputs": [],
   "source": [
    "arr2d_data = np.loadtxt(fname='polyreg.csv', delimiter=',')"
   ]
  },
  {
   "cell_type": "code",
   "execution_count": 7,
   "id": "6d43ce2e",
   "metadata": {},
   "outputs": [],
   "source": [
    "array_x = arr2d_data[:, 0]\n",
    "array_y = arr2d_data[:, 1]\n",
    "n = array_x.size\n",
    "sigma = 1\n",
    "list2d_maxX = []"
   ]
  },
  {
   "cell_type": "code",
   "execution_count": 8,
   "id": "ee63876d",
   "metadata": {},
   "outputs": [],
   "source": [
    "for x in array_x:\n",
    "    list2d_maxX.append([x, x**2, x**3, x**4, x**5])\n",
    "arr2d_maxX = np.array(list2d_maxX)\n",
    "reg = LinearRegression()"
   ]
  },
  {
   "cell_type": "code",
   "execution_count": 15,
   "id": "e3c15903",
   "metadata": {},
   "outputs": [
    {
     "name": "stdout",
     "output_type": "stream",
     "text": [
      "358.55\n",
      "313.81\n",
      "140.38\n",
      "142.59\n",
      "144.85\n"
     ]
    }
   ],
   "source": [
    "for k in range(1, 6):\n",
    "    reg.fit(arr2d_maxX[:, :k], array_y)\n",
    "    array_yhat = reg.predict(arr2d_maxX[:, :k])\n",
    "    a = (n/2)*np.log(2*np.pi*(sigma**2))\n",
    "    b = 1/(2*(sigma**2))*sum((array_y-array_yhat) ** 2)\n",
    "    c = ((k+1)/2)*np.log(n)\n",
    "    print('{0:.2f}'.format(a+b+c))"
   ]
  },
  {
   "cell_type": "code",
   "execution_count": null,
   "id": "e3093dbd",
   "metadata": {},
   "outputs": [],
   "source": []
  }
 ],
 "metadata": {
  "kernelspec": {
   "display_name": "Environment (conda_anaconda3)",
   "language": "python",
   "name": "conda_anaconda3"
  },
  "language_info": {
   "codemirror_mode": {
    "name": "ipython",
    "version": 3
   },
   "file_extension": ".py",
   "mimetype": "text/x-python",
   "name": "python",
   "nbconvert_exporter": "python",
   "pygments_lexer": "ipython3",
   "version": "3.8.5"
  }
 },
 "nbformat": 4,
 "nbformat_minor": 5
}
