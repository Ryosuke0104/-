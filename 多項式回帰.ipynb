{
 "cells": [
  {
   "cell_type": "markdown",
   "id": "d4f03e03",
   "metadata": {},
   "source": [
    "## 多項式回帰"
   ]
  },
  {
   "cell_type": "code",
   "execution_count": 56,
   "id": "d0f91505",
   "metadata": {},
   "outputs": [],
   "source": [
    "import numpy as np\n",
    "import matplotlib.pyplot as plt\n",
    "%matplotlib inline"
   ]
  },
  {
   "cell_type": "markdown",
   "id": "df78a869",
   "metadata": {},
   "source": [
    "ここでは以下の色を用いてデータを生成する、$$ y = b_0 + b_1x + b_2x^2 + b_3x^3 $$"
   ]
  },
  {
   "cell_type": "code",
   "execution_count": 57,
   "id": "c40a3b37",
   "metadata": {},
   "outputs": [],
   "source": [
    "array_x = np.array([1, -2, 2, 0, -1])\n",
    "list2d = list()\n",
    "for x in array_x:\n",
    "    list2d += [[x, x**2, x**3]]\n",
    "num_2d = np.array(list2d)"
   ]
  },
  {
   "cell_type": "code",
   "execution_count": 58,
   "id": "2e1dc7d1",
   "metadata": {},
   "outputs": [
    {
     "data": {
      "text/plain": [
       "array([-0.5, -2. ,  6. ,  0. ,  1.5])"
      ]
     },
     "execution_count": 58,
     "metadata": {},
     "output_type": "execute_result"
    }
   ],
   "source": [
    "beta0, beta1, beta2, beta3 = 3, -2, 0.5, 1\n",
    "beta_vec = np.array([beta1, beta2, beta3])\n",
    "array_f = np.dot(num_2d, beta_vec)\n",
    "array_f"
   ]
  },
  {
   "cell_type": "code",
   "execution_count": 59,
   "id": "c032d0df",
   "metadata": {},
   "outputs": [
    {
     "data": {
      "text/plain": [
       "<matplotlib.collections.PathCollection at 0x7f9905ddacd0>"
      ]
     },
     "execution_count": 59,
     "metadata": {},
     "output_type": "execute_result"
    },
    {
     "data": {
      "image/png": "[encoded data removed]",
      "text/plain": [
       "<Figure size 432x288 with 1 Axes>"
      ]
     },
     "metadata": {
      "needs_background": "light"
     },
     "output_type": "display_data"
    }
   ],
   "source": [
    "plt.scatter(array_x, array_f)"
   ]
  },
  {
   "cell_type": "markdown",
   "id": "c923e52c",
   "metadata": {},
   "source": [
    "ノイズを加える"
   ]
  },
  {
   "cell_type": "code",
   "execution_count": 60,
   "id": "cbc81b87",
   "metadata": {},
   "outputs": [
    {
     "name": "stdout",
     "output_type": "stream",
     "text": [
      "[ 0.1189938  -1.88436033  7.08274475 -0.73691003  1.34127691]\n"
     ]
    }
   ],
   "source": [
    "n = 5\n",
    "array_y = array_f + np.random.normal(0, 1, n)\n",
    "print(array_y)"
   ]
  },
  {
   "cell_type": "markdown",
   "id": "424f081b",
   "metadata": {},
   "source": [
    "これにより、データを作ることができた。"
   ]
  },
  {
   "cell_type": "markdown",
   "id": "d87d985a",
   "metadata": {},
   "source": [
    "実際に多項式回帰する"
   ]
  },
  {
   "cell_type": "code",
   "execution_count": 61,
   "id": "939b1653",
   "metadata": {},
   "outputs": [
    {
     "data": {
      "text/plain": [
       "LinearRegression()"
      ]
     },
     "execution_count": 61,
     "metadata": {},
     "output_type": "execute_result"
    }
   ],
   "source": [
    "from sklearn.linear_model import LinearRegression\n",
    "reg = LinearRegression()\n",
    "reg.fit(num_2d, array_y)"
   ]
  },
  {
   "cell_type": "code",
   "execution_count": 62,
   "id": "1c2a2220",
   "metadata": {},
   "outputs": [
    {
     "name": "stdout",
     "output_type": "stream",
     "text": [
      "[-1.56211416  0.74359416  0.95097261]\n",
      "-0.30283929501950335\n"
     ]
    }
   ],
   "source": [
    "print(reg.coef_)\n",
    "print(reg.intercept_)"
   ]
  },
  {
   "cell_type": "markdown",
   "id": "29a62866",
   "metadata": {},
   "source": [
    "推論してみる"
   ]
  },
  {
   "cell_type": "code",
   "execution_count": 63,
   "id": "09702fd2",
   "metadata": {},
   "outputs": [
    {
     "name": "stdout",
     "output_type": "stream",
     "text": [
      "-1.812015206832285\n"
     ]
    }
   ],
   "source": [
    "pred_x = np.arange(-2, 2, 0.1)\n",
    "pred_x_lis = list()\n",
    "\n",
    "# 入力変数から基底関数の出力f(x)を作るのに相当\n",
    "for x in pred_x:\n",
    "    pred_x_lis.append([x, x**2, x**3])\n",
    "pred_x_lis = np.array(pred_x_lis)\n",
    "pred = reg.predict(pred_x_lis)\n",
    "print(pred[0])"
   ]
  },
  {
   "cell_type": "code",
   "execution_count": 64,
   "id": "98258225",
   "metadata": {},
   "outputs": [
    {
     "data": {
      "text/plain": [
       "[<matplotlib.lines.Line2D at 0x7f9905eebb50>]"
      ]
     },
     "execution_count": 64,
     "metadata": {},
     "output_type": "execute_result"
    },
    {
     "data": {
      "image/png": "[encoded data removed]",
      "text/plain": [
       "<Figure size 432x288 with 1 Axes>"
      ]
     },
     "metadata": {
      "needs_background": "light"
     },
     "output_type": "display_data"
    }
   ],
   "source": [
    "plt.scatter(array_x, array_y, c='red')\n",
    "plt.plot(pred_x, pred, c = 'blue')"
   ]
  },
  {
   "cell_type": "markdown",
   "id": "9c7b0adc",
   "metadata": {},
   "source": [
    "サンプル数を増やしてみる"
   ]
  },
  {
   "cell_type": "code",
   "execution_count": 75,
   "id": "bcc82bfb",
   "metadata": {},
   "outputs": [
    {
     "data": {
      "text/plain": [
       "<matplotlib.collections.PathCollection at 0x7f9906921640>"
      ]
     },
     "execution_count": 75,
     "metadata": {},
     "output_type": "execute_result"
    },
    {
     "data": {
      "image/png": "[encoded data removed]",
      "text/plain": [
       "<Figure size 432x288 with 1 Axes>"
      ]
     },
     "metadata": {
      "needs_background": "light"
     },
     "output_type": "display_data"
    }
   ],
   "source": [
    "# データの生成\n",
    "n = 10*3\n",
    "array_x = np.random.uniform(-2.0, 2.0, n)\n",
    "list2d = list()\n",
    "for x in array_x:\n",
    "    list2d += [[x, x**2, x**3]]\n",
    "num_2d = np.array(list2d)\n",
    "beta0, beta1, beta2, beta3 = 3, -2, 0.5, 1\n",
    "beta_vec = np.array([beta1, beta2, beta3])\n",
    "array_f = np.dot(num_2d, beta_vec) + beta0\n",
    "array_y = array_f + np.random.normal(0, 1, n)\n",
    "plt.scatter(array_x, array_f)"
   ]
  },
  {
   "cell_type": "code",
   "execution_count": 76,
   "id": "fee289d4",
   "metadata": {},
   "outputs": [
    {
     "data": {
      "text/plain": [
       "LinearRegression()"
      ]
     },
     "execution_count": 76,
     "metadata": {},
     "output_type": "execute_result"
    }
   ],
   "source": [
    "reg = LinearRegression()\n",
    "reg.fit(num_2d, array_y)"
   ]
  },
  {
   "cell_type": "code",
   "execution_count": 77,
   "id": "122dc315",
   "metadata": {},
   "outputs": [
    {
     "name": "stdout",
     "output_type": "stream",
     "text": [
      "1.7889096752321576\n"
     ]
    }
   ],
   "source": [
    "pred_x = np.arange(-2, 2, 0.1)\n",
    "pred_x_lis = list()\n",
    "\n",
    "# 入力変数から基底関数の出力f(x)を作るのに相当\n",
    "for x in pred_x:\n",
    "    pred_x_lis.append([x, x**2, x**3])\n",
    "pred_x_lis = np.array(pred_x_lis)\n",
    "pred = reg.predict(pred_x_lis)\n",
    "print(pred[0])"
   ]
  },
  {
   "cell_type": "code",
   "execution_count": 78,
   "id": "407fe379",
   "metadata": {},
   "outputs": [
    {
     "data": {
      "text/plain": [
       "[<matplotlib.lines.Line2D at 0x7f99069f7340>]"
      ]
     },
     "execution_count": 78,
     "metadata": {},
     "output_type": "execute_result"
    },
    {
     "data": {
      "image/png": "[encoded data removed]",
      "text/plain": [
       "<Figure size 432x288 with 1 Axes>"
      ]
     },
     "metadata": {
      "needs_background": "light"
     },
     "output_type": "display_data"
    }
   ],
   "source": [
    "plt.scatter(array_x, array_y, c='red')\n",
    "plt.plot(pred_x, pred, c = 'blue')"
   ]
  },
  {
   "cell_type": "code",
   "execution_count": null,
   "id": "82b9322e",
   "metadata": {},
   "outputs": [],
   "source": []
  },
  {
   "cell_type": "code",
   "execution_count": null,
   "id": "e4d8377e",
   "metadata": {},
   "outputs": [],
   "source": []
  }
 ],
 "metadata": {
  "kernelspec": {
   "display_name": "Environment (conda_anaconda3)",
   "language": "python",
   "name": "conda_anaconda3"
  },
  "language_info": {
   "codemirror_mode": {
    "name": "ipython",
    "version": 3
   },
   "file_extension": ".py",
   "mimetype": "text/x-python",
   "name": "python",
   "nbconvert_exporter": "python",
   "pygments_lexer": "ipython3",
   "version": "3.8.5"
  }
 },
 "nbformat": 4,
 "nbformat_minor": 5
}
